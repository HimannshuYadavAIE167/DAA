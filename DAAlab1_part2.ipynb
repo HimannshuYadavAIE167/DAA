{
  "cells": [
    {
      "cell_type": "code",
      "execution_count": 7,
      "metadata": {
        "id": "IK18gwU0No_E"
      },
      "outputs": [
        {
          "data": {
            "image/png": "[encoded data removed]",
            "text/plain": [
              "<Figure size 640x480 with 1 Axes>"
            ]
          },
          "metadata": {},
          "output_type": "display_data"
        }
      ],
      "source": [
        "import random\n",
        "import time\n",
        "import matplotlib.pyplot as plt\n",
        "\n",
        "def bubble_sort(arr):\n",
        "    n = len(arr)\n",
        "    for i in range(n):\n",
        "        swapped = False\n",
        "        for j in range(0, n-i-1):\n",
        "            if arr[j] > arr[j+1]:\n",
        "                arr[j], arr[j+1] = arr[j+1], arr[j]\n",
        "                swapped = True\n",
        "        if not swapped:\n",
        "            break\n",
        "\n",
        "def selection_sort(arr):\n",
        "    n = len(arr)\n",
        "    for i in range(n-1):\n",
        "        smallest = i\n",
        "        for j in range(i+1, n):\n",
        "            if arr[j] < arr[smallest]:\n",
        "                smallest = j\n",
        "        arr[i], arr[smallest] = arr[smallest], arr[i]\n",
        "\n",
        "def insertion_sort(arr):\n",
        "    n = len(arr)\n",
        "    for i in range(1, n):\n",
        "        key = arr[i]\n",
        "        j = i - 1\n",
        "        while j >= 0 and arr[j] > key:\n",
        "            arr[j + 1] = arr[j]\n",
        "            j -= 1\n",
        "        arr[j + 1] = key\n",
        "\n",
        "# Generate random numbers\n",
        "random_numbers = [random.randint(1, 10000) for _ in range(1000)]\n",
        "\n",
        "# Time measurement function\n",
        "def measure_time_sort(sort_func, arr):\n",
        "    start_time = time.time()\n",
        "    sort_func(arr)\n",
        "    end_time = time.time()\n",
        "    return end_time - start_time\n",
        "\n",
        "# Time measurement for each sorting algorithm\n",
        "sorting_algorithms = {\n",
        "    'Bubble Sort': bubble_sort,\n",
        "    'Selection Sort': selection_sort,\n",
        "    'Insertion Sort': insertion_sort\n",
        "}\n",
        "times = {algo: measure_time_sort(func, random_numbers.copy()) for algo, func in sorting_algorithms.items()}\n",
        "\n",
        "# Plotting the results\n",
        "plt.bar(times.keys(), times.values())\n",
        "plt.xlabel('Sorting Algorithm')\n",
        "plt.ylabel('Time (seconds)')\n",
        "plt.title('Time taken for sorting 1000 random numbers')\n",
        "plt.show()\n"
      ]
    },
    {
      "cell_type": "code",
      "execution_count": 8,
      "metadata": {
        "id": "Bk0bS1E6KYMD"
      },
      "outputs": [
        {
          "name": "stdout",
          "output_type": "stream",
          "text": [
            "[10, 15, 20, 25, 27, 29, 30, 32, 33, 35, 37, 40, 48, 93]\n"
          ]
        }
      ],
      "source": [
        "import heapq\n",
        "\n",
        "def print_sorted_lists(lists):\n",
        "    merged = []\n",
        "    for lst in lists:\n",
        "        merged.extend(lst)\n",
        "    heapq.heapify(merged)\n",
        "    result = []\n",
        "    while merged:\n",
        "        result.append(heapq.heappop(merged))\n",
        "    return result\n",
        "\n",
        "# Example usage:\n",
        "lists = [[10,20,30, 40], [15,25,35], [27,29,37,48,93], [32,33]]\n",
        "print(print_sorted_lists(lists))\n"
      ]
    },
    {
      "cell_type": "code",
      "execution_count": 9,
      "metadata": {},
      "outputs": [
        {
          "name": "stdout",
          "output_type": "stream",
          "text": [
            "[10, 9, 8]\n"
          ]
        }
      ],
      "source": [
        "import heapq\n",
        "\n",
        "def find_k_largest(arr, k):\n",
        "    return heapq.nlargest(k, arr)\n",
        "\n",
        "\n",
        "arr = [3, 10, 4, 7, 6, 9, 8, 5]\n",
        "k = 3\n",
        "print(find_k_largest(arr, k))\n"
      ]
    },
    {
      "cell_type": "code",
      "execution_count": 10,
      "metadata": {},
      "outputs": [
        {
          "name": "stdout",
          "output_type": "stream",
          "text": [
            "4\n"
          ]
        }
      ],
      "source": [
        "def max_activities(activities):\n",
        "    activities.sort(key=lambda x: x[1])\n",
        "    result = [activities[0]]\n",
        "    for i in range(1, len(activities)):\n",
        "        if activities[i][0] >= result[-1][1]:\n",
        "            result.append(activities[i])\n",
        "    return len(result)\n",
        "\n",
        "\n",
        "activities = [(1, 4),(3,5),(0,6),(5,7),(3,8),(5,9),(6,10),(8,11),(8,12),(2,13),(12,14)]\n",
        "print(max_activities(activities))\n"
      ]
    },
    {
      "cell_type": "code",
      "execution_count": 11,
      "metadata": {},
      "outputs": [
        {
          "name": "stdout",
          "output_type": "stream",
          "text": [
            "[(1, 5), (6, 9)]\n"
          ]
        }
      ],
      "source": [
        "def merge_intervals(intervals):\n",
        "    intervals.sort(key=lambda x: x[0])\n",
        "    merged = [intervals[0]]\n",
        "    for i in range(1, len(intervals)):\n",
        "        if intervals[i][0] <= merged[-1][1]:\n",
        "            merged[-1] = (merged[-1][0], max(merged[-1][1], intervals[i][1]))\n",
        "        else:\n",
        "            merged.append(intervals[i])\n",
        "    return merged\n",
        "\n",
        "\n",
        "intervals = [(1, 4), (2, 5), (7,8), (6, 9)]\n",
        "print(merge_intervals(intervals))\n"
      ]
    }
  ],
  "metadata": {
    "colab": {
      "provenance": []
    },
    "kernelspec": {
      "display_name": "Python 3",
      "name": "python3"
    },
    "language_info": {
      "codemirror_mode": {
        "name": "ipython",
        "version": 3
      },
      "file_extension": ".py",
      "mimetype": "text/x-python",
      "name": "python",
      "nbconvert_exporter": "python",
      "pygments_lexer": "ipython3",
      "version": "3.10.11"
    }
  },
  "nbformat": 4,
  "nbformat_minor": 0
}
