{
  "cells": [
    {
      "cell_type": "code",
      "execution_count": 18,
      "metadata": {
        "colab": {
          "base_uri": "https://localhost:8080/"
        },
        "id": "HmfcHOMcpQDf",
        "outputId": "911f85dc-846a-4919-bd19-adb767a78219"
      },
      "outputs": [
        {
          "name": "stdout",
          "output_type": "stream",
          "text": [
            "Pair found ( 8 , 2 )\n",
            "Pair found ( 7 , 3 )\n",
            "Pair found ( 5 , 5 )\n"
          ]
        }
      ],
      "source": [
        "#Question 1\n",
        "array = [8, 7, 2, 5, 3, 5]\n",
        "target = 10\n",
        "n = len(array)\n",
        "\n",
        "found = False\n",
        "for i in range(n):\n",
        "    for j in range(i + 1, n):  \n",
        "        if array[i] + array[j] == target:\n",
        "            print(\"Pair found (\", array[i], \",\", array[j], \")\")\n",
        "            found = True\n",
        "\n",
        "if not found:\n",
        "    print(\"No pair found\")\n"
      ]
    },
    {
      "cell_type": "code",
      "execution_count": 19,
      "metadata": {
        "colab": {
          "base_uri": "https://localhost:8080/"
        },
        "id": "7YejoK8kyf4p",
        "outputId": "d505db44-639a-4c30-c5b4-53004ab7db63"
      },
      "outputs": [
        {
          "name": "stdout",
          "output_type": "stream",
          "text": [
            "No pair found\n"
          ]
        }
      ],
      "source": [
        "#Question 2\n",
        "array = [5, 2, 6, 8, 1, 9]\n",
        "target = 12\n",
        "\n",
        "found = False \n",
        "for i in range(len(array)):\n",
        "    for j in range(i + 1, len(array)):  \n",
        "        if array[i] + array[j] == target and i != j:\n",
        "            print(\"Pair found (\", array[i], \",\", array[j], \")\")\n",
        "            found = True\n",
        "\n",
        "if not found:\n",
        "    print(\"No pair found\")\n"
      ]
    },
    {
      "cell_type": "code",
      "execution_count": 20,
      "metadata": {
        "colab": {
          "base_uri": "https://localhost:8080/"
        },
        "id": "jJgYj_dW6S1q",
        "outputId": "339dd317-adab-4c1f-aa81-95a2efc60e44"
      },
      "outputs": [
        {
          "name": "stdout",
          "output_type": "stream",
          "text": [
            "Sorted array: [1, 2, 3, 4, 5, 6, 7, 8, 9]\n",
            "Product of two highest numbers: 72\n"
          ]
        }
      ],
      "source": [
        "#Question 3\n",
        "arr = [1, 7, 4, 2, 8, 6, 3, 9, 5]\n",
        "for i in range(len(arr)):\n",
        "    for j in range(len(arr) - 1 - i):\n",
        "        if arr[j] > arr[j + 1]:\n",
        "            arr[j], arr[j + 1] = arr[j + 1], arr[j]\n",
        "\n",
        "print(\"Sorted array:\", arr)\n",
        "n = len(arr)\n",
        "if n < 2:\n",
        "    print(\"Array has less than 2 elements\")\n",
        "else:\n",
        "    max1 = arr[-1]  \n",
        "    max2 = arr[-2]  \n",
        "    product = max1 * max2\n",
        "    print(\"Product of two highest numbers:\", product)\n"
      ]
    },
    {
      "cell_type": "code",
      "execution_count": 21,
      "metadata": {
        "colab": {
          "base_uri": "https://localhost:8080/"
        },
        "id": "U-q6Z8Nn-um0",
        "outputId": "58aafbd9-9ed5-4abe-d46d-ac347487ff21"
      },
      "outputs": [
        {
          "name": "stdout",
          "output_type": "stream",
          "text": [
            "[3, 8, 6, 7, 5, 9]\n",
            "[3, 8, 6, 7, 5, 9]\n",
            "[3, 8, 6, 7, 5, 9]\n",
            "[3, 8, 6, 7, 5, 9]\n"
          ]
        }
      ],
      "source": [
        "#Question 4\n",
        "A=[3,8,6,7,5,9]\n",
        "\n",
        "temp=0\n",
        "for i in range(0,len(A)-2):\n",
        "   print(A)\n"
      ]
    },
    {
      "cell_type": "code",
      "execution_count": 22,
      "metadata": {
        "colab": {
          "base_uri": "https://localhost:8080/"
        },
        "id": "UAKfFNZeOA29",
        "outputId": "0d94ff79-47a3-45c8-d684-e0d36c9ed3eb"
      },
      "outputs": [
        {
          "name": "stdout",
          "output_type": "stream",
          "text": [
            "10 1\n",
            "10 2\n",
            "10 4\n",
            "10 9\n",
            "10 5\n",
            "13 9\n",
            "13 5\n",
            "9 5\n",
            "count of inversions: 8\n"
          ]
        }
      ],
      "source": [
        "#Question 5\n",
        "arr = [10, 1, 2, 4, 13, 9, 5]\n",
        "n = len(arr)\n",
        "inversions = 0\n",
        "\n",
        "for j in range(n):\n",
        "    for k in range(j + 1, n):  \n",
        "        if arr[j] > arr[k]:\n",
        "            print(arr[j], arr[k])\n",
        "            inversions += 1\n",
        "\n",
        "print(\"count of inversions:\", inversions)\n",
        "\n"
      ]
    },
    {
      "cell_type": "code",
      "execution_count": 23,
      "metadata": {
        "id": "smXIB9zYQyCt"
      },
      "outputs": [
        {
          "name": "stdout",
          "output_type": "stream",
          "text": [
            "True\n"
          ]
        }
      ],
      "source": [
        "#Question 6 (a)\n",
        "def nsquarecomplexity(arr, k):\n",
        "    n = len(arr)\n",
        "    for i in range(n):\n",
        "        for j in range(i + 1, n):\n",
        "            if arr[i] + arr[j] == k:\n",
        "                return True\n",
        "    return False\n",
        "\n",
        "\n",
        "arr = [8, 4, 1, 6]\n",
        "k = 10\n",
        "print(nsquarecomplexity(arr, k)) \n",
        "\n"
      ]
    },
    {
      "cell_type": "code",
      "execution_count": 24,
      "metadata": {},
      "outputs": [
        {
          "name": "stdout",
          "output_type": "stream",
          "text": [
            "True\n"
          ]
        }
      ],
      "source": [
        "#Question 6 (b)\n",
        "def binary_search(arr, k):\n",
        "    arr.sort()  \n",
        "    n = len(arr)\n",
        "    for i in range(n):\n",
        "        complement = k - arr[i]\n",
        "        low, high = i + 1, n - 1\n",
        "        while low <= high:\n",
        "            mid = (low + high) // 2\n",
        "            if arr[mid] == complement:\n",
        "                return True\n",
        "            elif arr[mid] < complement:\n",
        "                low = mid + 1\n",
        "            else:\n",
        "                high = mid - 1\n",
        "    return False\n",
        "\n",
        "arr = [8, 4, 1, 6]\n",
        "k = 10\n",
        "print(binary_search(arr, k))\n",
        "\n",
        "\n"
      ]
    },
    {
      "cell_type": "code",
      "execution_count": null,
      "metadata": {},
      "outputs": [],
      "source": []
    }
  ],
  "metadata": {
    "colab": {
      "provenance": []
    },
    "kernelspec": {
      "display_name": "Python 3",
      "name": "python3"
    },
    "language_info": {
      "codemirror_mode": {
        "name": "ipython",
        "version": 3
      },
      "file_extension": ".py",
      "mimetype": "text/x-python",
      "name": "python",
      "nbconvert_exporter": "python",
      "pygments_lexer": "ipython3",
      "version": "3.10.11"
    }
  },
  "nbformat": 4,
  "nbformat_minor": 0
}
